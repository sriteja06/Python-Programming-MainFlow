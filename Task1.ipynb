{
 "cells": [
  {
   "cell_type": "code",
   "execution_count": 5,
   "metadata": {},
   "outputs": [
    {
     "name": "stdout",
     "output_type": "stream",
     "text": [
      "300 0.5 20000 100 1.023292992280754\n",
      "ABC RST\n",
      "DBC RST\n",
      "Length of String 1 is: 3\n",
      "Slicing of String: R\n",
      "lower Case Str1: dbc\n",
      "DBC RST DBCRST\n",
      "5\n",
      "['DBC', 'ST']\n",
      "D exists\n"
     ]
    }
   ],
   "source": [
    "#basic scripts using Python Programming language\n",
    "# Creation of Variables following Variable Name Conventions\n",
    "a = \"ABC\"\n",
    "b1 = True\n",
    "t_22 = 3\n",
    "int1=100\n",
    "int2=200\n",
    "print(int1+int2,int1/int2,int1*int2,int1%int2,int1**(1/int2))\n",
    "# Creating and manuplation of strings\n",
    "str1 = \"ABC\"\n",
    "str2 = \"RST\"\n",
    "print(str1, str2)\n",
    "str1 = str1.replace(\"A\", \"D\")\n",
    "print(str1, str2)\n",
    "print(\"Length of String 1 is:\", len(str1))\n",
    "print(\"Slicing of String:\",str2[:1])\n",
    "print(\"lower Case Str1:\",str1.lower())\n",
    "str3=str1+str2\n",
    "print(str1, str2,str3)\n",
    "# Finding a substring letter in the string\n",
    "print(str3.find(\"T\"))\n",
    "# Splitting String \n",
    "print(str3.split(\"R\"))\n",
    "# Conditional Statements\n",
    "if \"A\" in str1:\n",
    "    print(\"A exists\")\n",
    "elif(\"D\" in str1):\n",
    "    print(\"D exists\")\n",
    "else: \n",
    "    print(\"A and D doesnt exist\")\n"
   ]
  },
  {
   "cell_type": "code",
   "execution_count": 6,
   "metadata": {},
   "outputs": [
    {
     "name": "stdout",
     "output_type": "stream",
     "text": [
      "Original List: ['apple', 'banana', 'cherry']\n",
      "After adding an element: ['apple', 'banana', 'cherry', 'orange']\n",
      "After removing an element: ['apple', 'cherry', 'orange']\n",
      "First fruit: apple\n",
      "Fruits in the list:\n",
      "apple\n",
      "cherry\n",
      "orange\n",
      "Sliced list (first two elements): ['apple', 'cherry']\n",
      "Number of fruits: 3\n",
      "Apple is in the list.\n"
     ]
    }
   ],
   "source": [
    "# Data Structures in Python\n",
    "\n",
    "# List and its Operations\n",
    "# Creating a list of fruits\n",
    "fruits = [\"apple\", \"banana\", \"cherry\"]\n",
    "print(\"Original List:\", fruits)\n",
    "fruits.append(\"orange\")\n",
    "print(\"After adding an element:\", fruits)\n",
    "fruits.remove(\"banana\")\n",
    "print(\"After removing an element:\", fruits)\n",
    "first_fruit = fruits[0]\n",
    "print(\"First fruit:\", first_fruit)\n",
    "print(\"Fruits in the list:\")\n",
    "for fruit in fruits:\n",
    "    print(fruit)\n",
    "print(\"Sliced list (first two elements):\", fruits[:2])\n",
    "print(\"Number of fruits:\", len(fruits))\n",
    "if \"apple\" in fruits:\n",
    "    print(\"Apple is in the list.\")\n",
    "else:\n",
    "    print(\"Apple is not in the list.\")\n"
   ]
  },
  {
   "cell_type": "code",
   "execution_count": 7,
   "metadata": {},
   "outputs": [
    {
     "name": "stdout",
     "output_type": "stream",
     "text": [
      "Original Dictionary: {'name': 'John', 'age': 30, 'city': 'New York'}\n",
      "Name: John\n",
      "After adding email: {'name': 'John', 'age': 30, 'city': 'New York', 'email': 'john@example.com'}\n",
      "After updating age: {'name': 'John', 'age': 31, 'city': 'New York', 'email': 'john@example.com'}\n",
      "After removing city: {'name': 'John', 'age': 31, 'email': 'john@example.com'}\n",
      "Keys and values in the dictionary:\n",
      "name: John\n",
      "age: 31\n",
      "email: john@example.com\n",
      "Key 'name' exists in the dictionary.\n",
      "Keys: dict_keys(['name', 'age', 'email'])\n",
      "Values: dict_values(['John', 31, 'john@example.com'])\n"
     ]
    }
   ],
   "source": [
    "# Dictionary and its operations\n",
    "person = {\n",
    "    \"name\": \"John\",\n",
    "    \"age\": 30,\n",
    "    \"city\": \"New York\"\n",
    "}\n",
    "print(\"Original Dictionary:\", person)\n",
    "name = person[\"name\"]\n",
    "print(\"Name:\", name)\n",
    "person[\"email\"] = \"john@example.com\"\n",
    "print(\"After adding email:\", person)\n",
    "person[\"age\"] = 31\n",
    "print(\"After updating age:\", person)\n",
    "del person[\"city\"]\n",
    "print(\"After removing city:\", person)\n",
    "print(\"Keys and values in the dictionary:\")\n",
    "for key, value in person.items():\n",
    "    print(f\"{key}: {value}\")\n",
    "if \"name\" in person:\n",
    "    print(\"Key 'name' exists in the dictionary.\")\n",
    "else:\n",
    "    print(\"Key 'name' does not exist in the dictionary.\")\n",
    "keys = person.keys()\n",
    "print(\"Keys:\", keys)\n",
    "values = person.values()\n",
    "print(\"Values:\", values)"
   ]
  },
  {
   "cell_type": "code",
   "execution_count": 8,
   "metadata": {},
   "outputs": [
    {
     "name": "stdout",
     "output_type": "stream",
     "text": [
      "Original Tuple: (10, 20, 30, 40)\n",
      "First number: 10\n",
      "Error when trying to modify tuple: 'tuple' object does not support item assignment\n",
      "Numbers in the tuple:\n",
      "10\n",
      "20\n",
      "30\n",
      "40\n",
      "Sliced tuple (from index 1 to 2): (20, 30)\n",
      "Length of the tuple: 4\n",
      "30 is in the tuple.\n",
      "Combined tuple: (10, 20, 30, 40, 50, 60)\n"
     ]
    }
   ],
   "source": [
    "# Tuples and its operations\n",
    "numbers = (10, 20, 30, 40)\n",
    "print(\"Original Tuple:\", numbers)\n",
    "first_number = numbers[0]\n",
    "print(\"First number:\", first_number)\n",
    "try:\n",
    "    numbers[1] = 25\n",
    "except TypeError as e:\n",
    "    print(\"Error when trying to modify tuple:\", e)\n",
    "print(\"Numbers in the tuple:\")\n",
    "for number in numbers:\n",
    "    print(number)\n",
    "sliced_tuple = numbers[1:3]\n",
    "print(\"Sliced tuple (from index 1 to 2):\", sliced_tuple)\n",
    "length = len(numbers)\n",
    "print(\"Length of the tuple:\", length)\n",
    "if 30 in numbers:\n",
    "    print(\"30 is in the tuple.\")\n",
    "else:\n",
    "    print(\"30 is not in the tuple.\")\n",
    "more_numbers = (50, 60)\n",
    "combined_tuple = numbers + more_numbers\n",
    "print(\"Combined tuple:\", combined_tuple)\n"
   ]
  },
  {
   "cell_type": "code",
   "execution_count": 9,
   "metadata": {},
   "outputs": [
    {
     "name": "stdout",
     "output_type": "stream",
     "text": [
      "Set A: {1, 2, 3, 4}\n",
      "Set B: {3, 4, 5, 6}\n",
      "After adding an element to Set A: {1, 2, 3, 4, 7}\n",
      "After removing an element from Set A: {1, 3, 4, 7}\n",
      "Union of A and B: {1, 3, 4, 5, 6, 7}\n",
      "Intersection of A and B: {3, 4}\n",
      "Difference of A and B: {1, 7}\n",
      "Symmetric Difference of A and B: {1, 5, 6, 7}\n",
      "3 is in Set A\n",
      "Length of Set A: 4\n"
     ]
    }
   ],
   "source": [
    "# Sets and its operations\n",
    "set_a = {1, 2, 3, 4}\n",
    "set_b = {3, 4, 5, 6}\n",
    "print(\"Set A:\", set_a)\n",
    "print(\"Set B:\", set_b)\n",
    "set_a.add(7)\n",
    "print(\"After adding an element to Set A:\", set_a)\n",
    "set_a.remove(2)\n",
    "print(\"After removing an element from Set A:\", set_a)\n",
    "union_set = set_a.union(set_b)\n",
    "print(\"Union of A and B:\", union_set)\n",
    "intersection_set = set_a.intersection(set_b)\n",
    "print(\"Intersection of A and B:\", intersection_set)\n",
    "difference_set = set_a.difference(set_b)\n",
    "print(\"Difference of A and B:\", difference_set)\n",
    "symmetric_diff = set_a.symmetric_difference(set_b)\n",
    "print(\"Symmetric Difference of A and B:\", symmetric_diff)\n",
    "if 3 in set_a:\n",
    "    print(\"3 is in Set A\")\n",
    "else:\n",
    "    print(\"3 is not in Set A\")\n",
    "print(\"Length of Set A:\", len(set_a))\n"
   ]
  }
 ],
 "metadata": {
  "kernelspec": {
   "display_name": "base",
   "language": "python",
   "name": "python3"
  },
  "language_info": {
   "codemirror_mode": {
    "name": "ipython",
    "version": 3
   },
   "file_extension": ".py",
   "mimetype": "text/x-python",
   "name": "python",
   "nbconvert_exporter": "python",
   "pygments_lexer": "ipython3",
   "version": "3.12.4"
  }
 },
 "nbformat": 4,
 "nbformat_minor": 2
}
